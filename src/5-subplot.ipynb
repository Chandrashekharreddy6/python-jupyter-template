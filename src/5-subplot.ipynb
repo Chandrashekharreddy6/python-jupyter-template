{
 "cells": [
  {
   "cell_type": "markdown",
   "metadata": {},
   "source": [
    "### Exercise 5: Subplot Layout"
   ]
  },
  {
   "cell_type": "code",
   "execution_count": null,
   "metadata": {},
   "outputs": [],
   "source": [
    "# TASK: Create a 2x2 subplot layout.\n",
    "# Plot a line chart in the first subplot, a bar chart in the second, a scatter plot in the third, and a pie chart in the fourth.\n",
    "import matplotlib.pyplot as plt\n",
    "\n",
    "# Create a 2x2 subplot layout\n",
    "fig, axs = plt.subplots(2, 2, figsize=(12, 10))\n",
    "\n",
    "# Line chart data\n",
    "x = [1, 2, 3, 4, 5]\n",
    "y = [2, 3, 5, 7, 11]\n",
    "axs[0, 0].plot(x, y, marker='o')\n",
    "axs[0, 0].set_title('Line Chart')\n",
    "\n",
    "# Bar chart data\n",
    "categories = ['A', 'B', 'C', 'D']\n",
    "values = [10, 20, 15, 25]\n",
    "axs[0, 1].bar(categories, values, color='skyblue')\n",
    "axs[0, 1].set_title('Bar Chart')\n",
    "\n",
    "# Scatter plot data\n",
    "x_scatter = [1, 2, 3, 4, 5]\n",
    "y_scatter = [5, 4, 3, 2, 1]\n",
    "axs[1, 0].scatter(x_scatter, y_scatter, color='green')\n",
    "axs[1, 0].set_title('Scatter Plot')\n",
    "\n",
    "# Pie chart data\n",
    "labels = ['Python', 'Java', 'C++', 'JavaScript']\n",
    "sizes = [40, 25, 20, 15]\n",
    "axs[1, 1].pie(sizes, labels=labels, autopct='%1.1f%%', startangle=90)\n",
    "axs[1, 1].set_title('Pie Chart')\n",
    "axs[1, 1].axis('equal')  # Equal aspect ratio\n",
    "\n",
    "# Adjust layout\n",
    "plt.tight_layout()\n",
    "plt.show()\n"
   ]
  }
 ],
 "metadata": {
  "language_info": {
   "name": "python"
  }
 },
 "nbformat": 4,
 "nbformat_minor": 2
}
